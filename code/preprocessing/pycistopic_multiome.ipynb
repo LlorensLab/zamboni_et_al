{
 "cells": [
  {
   "cell_type": "code",
   "execution_count": null,
   "id": "2288c20f-af24-422b-8a63-1bcfc92ee076",
   "metadata": {},
   "outputs": [],
   "source": [
    "import os\n",
    "from scipy.io import mmread\n",
    "from scipy.sparse import csr_matrix\n",
    "import pandas as pd\n",
    "import scanpy as sc\n",
    "import numpy as np\n",
    "import pickle\n",
    "import resource"
   ]
  },
  {
   "cell_type": "code",
   "execution_count": null,
   "id": "8055f064-d3f7-4f5f-9ba8-5c44643773d2",
   "metadata": {},
   "outputs": [],
   "source": [
    "cell = \"multiome_for_uppmax\""
   ]
  },
  {
   "cell_type": "code",
   "execution_count": null,
   "id": "af6fd31b-7f6b-4d16-8cb7-bec9c1b04df1",
   "metadata": {},
   "outputs": [],
   "source": [
    "# paths\n",
    "main_path = \"/cfs/klemming/projects/supr/secilmis/naiss2023-23-600\"\n",
    "data_path = os.path.join(main_path, cell)\n",
    "out_path = os.path.join(data_path, \"scenicplus\")\n",
    "os.makedirs(out_path, exist_ok = True)\n",
    "fragments_path = os.path.join(main_path, \"fragments\")\n",
    "out_dir = \"outs\"\n",
    "os.makedirs(out_dir, exist_ok = True)\n",
    "mouse_general = os.path.join(main_path, \"mouse_general\")"
   ]
  },
  {
   "cell_type": "code",
   "execution_count": null,
   "id": "5f3b1bf7-252d-4b94-a454-d2b7a68168ee",
   "metadata": {},
   "outputs": [],
   "source": [
    "# Read metadata\n",
    "metadata_file = os.path.join(data_path, 'metadata.tsv')\n",
    "metadata = pd.read_csv(metadata_file, sep = '\\t', index_col = 0)\n",
    "print(metadata.head())\n",
    "print(metadata.shape)"
   ]
  },
  {
   "cell_type": "code",
   "execution_count": null,
   "id": "bb5b5d3e-88b1-4bf9-8bef-7948be7a4cdd",
   "metadata": {},
   "outputs": [],
   "source": [
    "# Load the RNA sparse matrix\n",
    "atac_path = os.path.join(data_path, \"atac_counts.mtx\")\n",
    "atac_matrix = mmread(atac_path).tocsr()\n",
    "\n",
    "# Load the row and column names\n",
    "genes_path = os.path.join(data_path, \"regions.tsv\")\n",
    "cells_path = os.path.join(data_path, \"cells.tsv\")\n",
    "\n",
    "genes = pd.read_csv(genes_path, header=None, sep='\\t')[0].values\n",
    "cells = pd.read_csv(cells_path, header=None, sep='\\t')[0].values\n",
    "\n",
    "atac_counts_df = pd.DataFrame.sparse.from_spmatrix(atac_matrix, index=genes, columns=cells)\n",
    "print(atac_counts_df.head())"
   ]
  },
  {
   "cell_type": "code",
   "execution_count": null,
   "id": "5b2b33b3-58be-4aeb-8ffe-6cd3dc3c62fd",
   "metadata": {},
   "outputs": [],
   "source": [
    "# Load the RNA sparse matrix\n",
    "rna_path = os.path.join(data_path, \"rna_counts.mtx\")\n",
    "rna_matrix = mmread(rna_path).tocsr()\n",
    "\n",
    "# Load the row and column names\n",
    "genes_path = os.path.join(data_path, \"gene_names.tsv\")\n",
    "cells_path = os.path.join(data_path, \"cells.tsv\")\n",
    "\n",
    "genes = pd.read_csv(genes_path, header=None, sep='\\t')[0].values\n",
    "cells = pd.read_csv(cells_path, header=None, sep='\\t')[0].values # even though it was read above :D\n",
    "\n",
    "# Create a DataFrame if needed\n",
    "rna_counts_df = pd.DataFrame.sparse.from_spmatrix(rna_matrix, index=genes, columns=cells)\n",
    "# rna_counts_df.columns = rna_counts_df.columns.map(modify_row_names)\n",
    "print(rna_counts_df.head())"
   ]
  },
  {
   "cell_type": "code",
   "execution_count": null,
   "id": "a9b7b0e8-cd4e-4d46-95c6-4d9d74e636fc",
   "metadata": {},
   "outputs": [],
   "source": [
    "# creating adata object\n",
    "adata = sc.AnnData(rna_counts_df.T, obs=metadata)\n",
    "columns_to_keep = ['sample', 'experiment', 'condition', 'cell_ids', 'cluster_ids', 'merged_id']\n",
    "adata.obs = adata.obs[columns_to_keep]\n",
    "\n",
    "adata.obs['ds_sample'] = 'ds_sample'\n",
    "# adata.obs.index = adata.obs.index + '_ds_sample'\n",
    "\n",
    "adata.raw = adata.copy()\n",
    "\n",
    "sc.pp.normalize_total(adata, target_sum=1e4)\n",
    "sc.pp.log1p(adata)"
   ]
  },
  {
   "cell_type": "code",
   "execution_count": null,
   "id": "0f718aea-0898-4637-9e0d-140f797450af",
   "metadata": {},
   "outputs": [],
   "source": [
    "print(adata)"
   ]
  },
  {
   "cell_type": "code",
   "execution_count": null,
   "id": "df60652b-f28c-41bf-b4e3-34933dca83b2",
   "metadata": {},
   "outputs": [],
   "source": [
    "# fragments_dict = {sample: os.path.join(fragments_path, sample, \"atac_fragments.tsv.gz\") for sample in adata.obs['sample'].unique()}\n",
    "# print(fragments_dict)"
   ]
  },
  {
   "cell_type": "code",
   "execution_count": null,
   "id": "fc34e392-522a-45be-9249-1662ceae87b2",
   "metadata": {},
   "outputs": [],
   "source": [
    "# # The following will run only once to generate subset-specific fragments file. If already generated, skip.\n",
    "\n",
    "# columns = ['chrom', 'start', 'end', 'barcode', 'count']\n",
    "\n",
    "# # An empty DataFrame to hold all fragments\n",
    "# all_fragments_df = pd.DataFrame(columns=columns)\n",
    "\n",
    "# # Group cells of interest by their sample IDs\n",
    "# sample_to_cells = metadata.groupby('sample').apply(lambda x: x.index.tolist()).to_dict()\n",
    "# print(sample_to_cells)"
   ]
  },
  {
   "cell_type": "code",
   "execution_count": null,
   "id": "385202d8-1efc-413d-a961-96cd58d4478e",
   "metadata": {},
   "outputs": [],
   "source": [
    "# from concurrent.futures import ProcessPoolExecutor\n",
    "\n",
    "# # Function to process each fragment file\n",
    "# def process_sample(args):\n",
    "#     sample, filepath, sample_to_cells, columns = args\n",
    "#     print(f\"Processing {sample} from {filepath}\")\n",
    "    \n",
    "#     # Identify cells of interest for the current sample\n",
    "#     cells_of_interest_sample = sample_to_cells.get(sample, [])\n",
    "    \n",
    "#     # Read the fragments file\n",
    "#     fragments_df = pd.read_csv(filepath, sep='\\t', compression='gzip', header=None, names=columns, comment='#')\n",
    "    \n",
    "#     # Prepend the sample ID to each cell barcode\n",
    "#     fragments_df['barcode'] = sample + '_' + fragments_df['barcode']\n",
    "    \n",
    "#     # Filter the fragments to include only cells of interest for this sample\n",
    "#     filtered_fragments_df = fragments_df[fragments_df['barcode'].isin(cells_of_interest_sample)]\n",
    "    \n",
    "#     return filtered_fragments_df\n",
    "\n",
    "# # Prepare arguments for parallel processing\n",
    "# args_list = [(sample, filepath, sample_to_cells, columns) for sample, filepath in fragments_dict.items()]\n",
    "\n",
    "# # Parallel processing\n",
    "# temp_results = []  # Store filtered DataFrames temporarily\n",
    "# with ProcessPoolExecutor(max_workers=20) as executor:\n",
    "#     results = executor.map(process_sample, args_list)\n",
    "#     temp_results.extend(results)\n",
    "\n",
    "# # Combine all filtered DataFrames\n",
    "# all_fragments_df = pd.concat(temp_results, ignore_index=True)\n",
    "\n",
    "# # Sort the combined DataFrame\n",
    "# all_fragments_df = all_fragments_df.sort_values(by=['chrom', 'start'])\n",
    "\n",
    "# # Write the subset DataFrame to a new uncompressed file\n",
    "# all_fragments_df.to_csv(os.path.join(data_path, \"subset_fragments.tsv\"), sep='\\t', header=False, index=False)\n",
    "\n",
    "# print(\"All fragments combined and saved.\")\n"
   ]
  },
  {
   "cell_type": "code",
   "execution_count": null,
   "id": "680d5034-e7cf-4f77-ab26-04447a56856c",
   "metadata": {},
   "outputs": [],
   "source": [
    "# print(all_fragments_df)"
   ]
  },
  {
   "cell_type": "code",
   "execution_count": null,
   "id": "672d7377-c8a4-4976-808b-b1f7be6cc5be",
   "metadata": {},
   "outputs": [],
   "source": [
    "# # then bash and run the following\n",
    "# # bgzip -c /cfs/klemming/projects/supr/secilmis/naiss2023-23-600/multiome_for_uppmax/subset_fragments.tsv > /cfs/klemming/projects/supr/secilmis/naiss2023-23-600/multiome_for_uppmax/subset_fragments.tsv.gz\n",
    "# # tabix -p bed /cfs/klemming/projects/supr/secilmis/naiss2023-23-600/multiome_for_uppmax/subset_fragments.tsv.gz"
   ]
  },
  {
   "cell_type": "code",
   "execution_count": null,
   "id": "a53b7adc-6d8a-4d92-832f-71130860efb1",
   "metadata": {},
   "outputs": [],
   "source": [
    "# del(all_fragments_df)"
   ]
  },
  {
   "cell_type": "code",
   "execution_count": null,
   "id": "f093f465-439d-4e36-a149-14380450fa08",
   "metadata": {},
   "outputs": [],
   "source": [
    "fragments_dict = {\n",
    "    \"ds_sample\": os.path.join(data_path, \"subset_fragments.tsv.gz\")\n",
    "}\n",
    "print(fragments_dict)"
   ]
  },
  {
   "cell_type": "code",
   "execution_count": null,
   "id": "a52d5e86-01a2-429e-8280-f8394601fec4",
   "metadata": {},
   "outputs": [],
   "source": [
    "# Directory for output files\n",
    "os.makedirs(os.path.join(out_dir, \"consensus_peak_calling\"), exist_ok=True)\n",
    "os.makedirs(os.path.join(out_dir, \"consensus_peak_calling/pseudobulk_bed_files\"), exist_ok=True)\n",
    "os.makedirs(os.path.join(out_dir, \"consensus_peak_calling/pseudobulk_bw_files\"), exist_ok=True)\n",
    "\n",
    "# Load the mouse (mm10) chromosome sizes\n",
    "chromsizes = pd.read_table(\n",
    "    \"http://hgdownload.cse.ucsc.edu/goldenPath/mm10/bigZips/mm10.chrom.sizes\",\n",
    "    header=None,\n",
    "    names=[\"Chromosome\", \"End\"]\n",
    ")\n",
    "chromsizes.insert(1, \"Start\", 0)\n",
    "# Check for spaces or non-printable characters in column names\n",
    "chromsizes.columns = chromsizes.columns.str.strip()\n",
    "\n",
    "# Check for spaces or non-printable characters in the data\n",
    "chromsizes['Chromosome'] = chromsizes['Chromosome'].str.strip()\n",
    "\n",
    "# Confirm data types\n",
    "print(chromsizes.dtypes)\n",
    "\n",
    "# Display first few rows to manually inspect\n",
    "print(chromsizes.head())"
   ]
  },
  {
   "cell_type": "code",
   "execution_count": null,
   "id": "b8bec454-15ae-4fc4-a867-6cc8c26c6b0e",
   "metadata": {},
   "outputs": [],
   "source": [
    "adata.obs['merged_id'] = adata.obs['merged_id'].astype(str)\n",
    "from pycisTopic.pseudobulk_peak_calling import export_pseudobulk\n",
    "bw_paths, bed_paths = export_pseudobulk(\n",
    "    input_data=adata.obs,  \n",
    "    variable='merged_id',  \n",
    "    chromsizes=chromsizes,\n",
    "    bed_path=os.path.join(out_dir, \"consensus_peak_calling/pseudobulk_bed_files\"),\n",
    "    bigwig_path=os.path.join(out_dir, \"consensus_peak_calling/pseudobulk_bw_files\"),\n",
    "    path_to_fragments=fragments_dict,\n",
    "    sample_id_col='ds_sample',\n",
    "    n_cpu=20,\n",
    "    normalize_bigwig=True,\n",
    "    split_pattern='--',  \n",
    "    temp_dir=os.path.join(out_dir, \"tmp\")\n",
    ")"
   ]
  },
  {
   "cell_type": "code",
   "execution_count": null,
   "id": "c2f3fe8d-87b9-4113-bcf4-c7b16b95e1ca",
   "metadata": {},
   "outputs": [],
   "source": [
    "with open(os.path.join(out_dir, \"consensus_peak_calling/bw_paths.tsv\"), \"wt\") as f:\n",
    "    for v in bw_paths:\n",
    "        _ = f.write(f\"{v}\\t{bw_paths[v]}\\n\")\n",
    "with open(os.path.join(out_dir, \"consensus_peak_calling/bed_paths.tsv\"), \"wt\") as f:\n",
    "    for v in bed_paths:\n",
    "        _ = f.write(f\"{v}\\t{bed_paths[v]}\\n\")"
   ]
  },
  {
   "cell_type": "code",
   "execution_count": null,
   "id": "a548bba9-d08f-42c2-b6c9-d994d9c5fbb6",
   "metadata": {},
   "outputs": [],
   "source": [
    "bw_paths = {}\n",
    "with open(os.path.join(out_dir, \"consensus_peak_calling/bw_paths.tsv\")) as f:\n",
    "    for line in f:\n",
    "        v, p = line.strip().split(\"\\t\")\n",
    "        bw_paths.update({v: p})\n",
    "bed_paths = {}\n",
    "with open(os.path.join(out_dir, \"consensus_peak_calling/bed_paths.tsv\")) as f:\n",
    "    for line in f:\n",
    "        v, p = line.strip().split(\"\\t\")\n",
    "        bed_paths.update({v: p})"
   ]
  },
  {
   "cell_type": "code",
   "execution_count": null,
   "id": "4165ab7c-4eef-46d8-b91e-d2aac97085fc",
   "metadata": {},
   "outputs": [],
   "source": [
    "from pycisTopic.pseudobulk_peak_calling import peak_calling\n",
    "macs_path = \"macs2\"\n",
    "\n",
    "os.makedirs(os.path.join(out_dir, \"consensus_peak_calling/MACS\"), exist_ok = True)\n",
    "\n",
    "narrow_peak_dict = peak_calling(\n",
    "    macs_path = macs_path,\n",
    "    bed_paths = bed_paths,\n",
    "    outdir = os.path.join(out_dir, \"consensus_peak_calling/MACS\"),\n",
    "    genome_size = 'mm',\n",
    "    # n_cpu = 10,\n",
    "    input_format = 'BEDPE',\n",
    "    shift = 73,\n",
    "    ext_size = 146,\n",
    "    keep_dup = 'all',\n",
    "    q_value = 0.05,\n",
    "    _temp_dir = \"/cfs/klemming/projects/supr/secilmis/naiss2023-23-600/outs/tmp\"\n",
    ")"
   ]
  },
  {
   "cell_type": "code",
   "execution_count": null,
   "id": "c8ab9083-6bba-46fb-bd81-3f4278898e16",
   "metadata": {},
   "outputs": [],
   "source": [
    "from pycisTopic.iterative_peak_calling import get_consensus_peaks\n",
    "# Other param\n",
    "peak_half_width=250\n",
    "path_to_blacklist=\"/cfs/klemming/projects/supr/secilmis/naiss2023-23-600/mouse_general/mm10-blacklist.v2.bed\"\n",
    "# Get consensus peaks\n",
    "consensus_peaks = get_consensus_peaks(\n",
    "    narrow_peaks_dict = narrow_peak_dict,\n",
    "    peak_half_width = peak_half_width,\n",
    "    chromsizes = chromsizes,\n",
    "    path_to_blacklist = path_to_blacklist)"
   ]
  },
  {
   "cell_type": "code",
   "execution_count": null,
   "id": "bbe3fae3-1d07-444f-b843-5a52eacece98",
   "metadata": {},
   "outputs": [],
   "source": [
    "consensus_peaks.to_bed(\n",
    "    path = os.path.join(out_dir, \"consensus_peak_calling/consensus_regions.bed\"),\n",
    "    keep =True,\n",
    "    compression = 'infer',\n",
    "    chain = False)"
   ]
  },
  {
   "cell_type": "code",
   "execution_count": null,
   "id": "f154b49b-f583-4c4b-829d-602746440b4c",
   "metadata": {},
   "outputs": [],
   "source": [
    "!pycistopic tss gene_annotation_list | grep Mouse"
   ]
  },
  {
   "cell_type": "code",
   "execution_count": null,
   "id": "63bb6e53-7c09-44b8-8ca1-f04a17b5dfd5",
   "metadata": {},
   "outputs": [],
   "source": [
    "!mkdir -p /cfs/klemming/projects/supr/secilmis/naiss2023-23-600/outs/qc\n",
    "!pycistopic tss get_tss \\\n",
    "    --output /cfs/klemming/projects/supr/secilmis/naiss2023-23-600/outs/qc/tss.bed \\\n",
    "    --name \"mmusculus_gene_ensembl\" \\\n",
    "    --to-chrom-source ucsc \\\n",
    "    --ucsc mm10"
   ]
  },
  {
   "cell_type": "code",
   "execution_count": null,
   "id": "ab88f956-9409-4870-8ea7-b80cde96c795",
   "metadata": {},
   "outputs": [],
   "source": [
    "!head /cfs/klemming/projects/supr/secilmis/naiss2023-23-600/outs/qc/tss.bed | column -t"
   ]
  },
  {
   "cell_type": "code",
   "execution_count": null,
   "id": "d0498423-5dbf-44bb-ae3b-5f5b43d21721",
   "metadata": {},
   "outputs": [],
   "source": [
    "regions_path = \"/cfs/klemming/projects/supr/secilmis/naiss2023-23-600/outs/consensus_peak_calling/consensus_regions.bed\"\n",
    "tss_path = \"/cfs/klemming/projects/supr/secilmis/naiss2023-23-600/outs/qc/tss.bed\"\n",
    "\n",
    "# base output directory\n",
    "output_dir = \"/cfs/klemming/projects/supr/secilmis/naiss2023-23-600/outs/qc\"\n",
    "\n",
    "# loop through the fragments dictionary and run the pycistopic qc command\n",
    "for sample, fragment_path in fragments_dict.items():\n",
    "    output_path = os.path.join(output_dir, sample)\n",
    "    os.makedirs(output_path, exist_ok=True)\n",
    "    \n",
    "    command = f\"pycistopic qc --fragments {fragment_path} --regions {regions_path} --tss {tss_path} --output {output_path}\"\n",
    "    \n",
    "    # run the command\n",
    "    os.system(command)"
   ]
  },
  {
   "cell_type": "code",
   "execution_count": null,
   "id": "dbb76e73-fb3f-4535-a365-601523252c0f",
   "metadata": {},
   "outputs": [],
   "source": [
    "from pycisTopic.plotting.qc_plot import plot_sample_stats, plot_barcode_stats\n",
    "import matplotlib.pyplot as plt"
   ]
  },
  {
   "cell_type": "code",
   "execution_count": null,
   "id": "40b96424-03d4-4a70-aaa4-4677913d65ee",
   "metadata": {},
   "outputs": [],
   "source": [
    "for sample_id in fragments_dict:\n",
    "    fig = plot_sample_stats(\n",
    "        sample_id = sample_id,\n",
    "        pycistopic_qc_output_dir = \"/cfs/klemming/projects/supr/secilmis/naiss2023-23-600/outs/qc\"\n",
    "    )"
   ]
  },
  {
   "cell_type": "code",
   "execution_count": null,
   "id": "5702dc5e-51d0-4433-a1f8-cc1b0275ba4b",
   "metadata": {},
   "outputs": [],
   "source": [
    "from pycisTopic.qc import get_barcodes_passing_qc_for_sample"
   ]
  },
  {
   "cell_type": "code",
   "execution_count": null,
   "id": "0f3868c3-1857-4a66-b375-f20984d43154",
   "metadata": {},
   "outputs": [],
   "source": [
    "sample_id_to_barcodes_passing_filters = {}\n",
    "sample_id_to_thresholds = {}\n",
    "for sample_id in fragments_dict:\n",
    "    (\n",
    "        sample_id_to_barcodes_passing_filters[sample_id],\n",
    "        sample_id_to_thresholds[sample_id]\n",
    "    ) = get_barcodes_passing_qc_for_sample(\n",
    "            sample_id = sample_id,\n",
    "            pycistopic_qc_output_dir = \"/cfs/klemming/projects/supr/secilmis/naiss2023-23-600/outs/qc\",\n",
    "            unique_fragments_threshold = 0, # use automatic thresholding\n",
    "            tss_enrichment_threshold = 0, # use automatic thresholding\n",
    "            frip_threshold = 0,\n",
    "            use_automatic_thresholds = True,\n",
    "    )"
   ]
  },
  {
   "cell_type": "code",
   "execution_count": null,
   "id": "150a295a-6c46-47f4-b500-5c8130111d87",
   "metadata": {},
   "outputs": [],
   "source": [
    "for sample_id in fragments_dict:\n",
    "    fig = plot_barcode_stats(\n",
    "        sample_id = sample_id,\n",
    "        pycistopic_qc_output_dir = \"/cfs/klemming/projects/supr/secilmis/naiss2023-23-600/outs/qc\",\n",
    "        bc_passing_filters = sample_id_to_barcodes_passing_filters[sample_id],\n",
    "        detailed_title = False,\n",
    "        **sample_id_to_thresholds[sample_id]\n",
    "    )"
   ]
  },
  {
   "cell_type": "code",
   "execution_count": null,
   "id": "8fb61257-e9e2-4248-8e33-8861d94ea58f",
   "metadata": {},
   "outputs": [],
   "source": [
    "# add pickle dump here\n",
    "import pickle\n",
    "pickle.dump(\n",
    "    sample_id_to_barcodes_passing_filters,\n",
    "    open(os.path.join(out_dir, \"sample_id_to_barcodes_passing_filters.pkl\"), \"wb\")\n",
    ")"
   ]
  },
  {
   "cell_type": "code",
   "execution_count": null,
   "id": "0ab5ea8b-2075-43ea-84a8-f67d4a954d7a",
   "metadata": {},
   "outputs": [],
   "source": [
    "import pickle\n",
    "with open(os.path.join(out_dir, \"sample_id_to_barcodes_passing_filters.pkl\"), 'rb') as file:\n",
    "    sample_id_to_barcodes_passing_filters = pickle.load(file)\n"
   ]
  },
  {
   "cell_type": "code",
   "execution_count": null,
   "id": "fccbc1e4-95cf-4121-82e8-6bbc38f7c734",
   "metadata": {},
   "outputs": [],
   "source": [
    "path_to_regions = os.path.join(out_dir, \"consensus_peak_calling/consensus_regions.bed\")\n",
    "path_to_blacklist = os.path.join(mouse_general, \"mm10-blacklist.v2.bed\")\n",
    "pycistopic_qc_output_dir = \"/cfs/klemming/projects/supr/secilmis/naiss2023-23-600/outs/qc\"\n",
    "\n",
    "from pycisTopic.cistopic_class import create_cistopic_object_from_fragments\n",
    "import polars as pl\n",
    "\n",
    "cistopic_obj_list = []\n",
    "for sample_id in fragments_dict:\n",
    "    sample_metrics = pl.read_parquet(\n",
    "        os.path.join(pycistopic_qc_output_dir, f'{sample_id}.fragments_stats_per_cb.parquet')\n",
    "    ).to_pandas().set_index(\"CB\").loc[ sample_id_to_barcodes_passing_filters[sample_id] ]\n",
    "    cistopic_obj = create_cistopic_object_from_fragments(\n",
    "        path_to_fragments = fragments_dict[sample_id],\n",
    "        path_to_regions = path_to_regions,\n",
    "        path_to_blacklist = path_to_blacklist,\n",
    "        metrics = sample_metrics,\n",
    "        valid_bc = sample_id_to_barcodes_passing_filters[sample_id],\n",
    "        # n_cpu = 1,\n",
    "        project = sample_id,\n",
    "        split_pattern = \"--\"\n",
    "    )\n",
    "    cistopic_obj_list.append(cistopic_obj)"
   ]
  },
  {
   "cell_type": "code",
   "execution_count": null,
   "id": "9a8c5600-9539-42cf-9c9e-94678f3a36b9",
   "metadata": {},
   "outputs": [],
   "source": [
    "cistopic_obj = cistopic_obj_list[0]\n",
    "print(cistopic_obj)"
   ]
  },
  {
   "cell_type": "code",
   "execution_count": null,
   "id": "1e1885f3-2071-440f-9142-cf9c5ae3b489",
   "metadata": {},
   "outputs": [],
   "source": [
    "pickle.dump(\n",
    "    cistopic_obj,\n",
    "    open(os.path.join(out_path, \"cistopic_obj.pkl\"), \"wb\")\n",
    ")"
   ]
  },
  {
   "cell_type": "code",
   "execution_count": null,
   "id": "ddade485-385e-4899-b594-468f9f810e20",
   "metadata": {},
   "outputs": [],
   "source": [
    "# need to add adata index \"--ds_sample\"\n",
    "print(adata.obs.head())\n",
    "adata.obs.index = adata.obs.index + '--ds_sample'\n",
    "print(adata.obs.head())\n",
    "adata.write(os.path.join(out_path, \"rna_adata.h5ad\"))\n",
    "# adata.write_h5ad(os.path.join(out_path, \"rna_adata.h5ad\"))"
   ]
  },
  {
   "cell_type": "code",
   "execution_count": null,
   "id": "8afa79ae-7169-4759-ab1a-3219be61f05c",
   "metadata": {},
   "outputs": [],
   "source": [
    "cistopic_obj.add_cell_data(adata.obs)\n",
    "print(cistopic_obj.cell_data.head())"
   ]
  },
  {
   "cell_type": "code",
   "execution_count": null,
   "id": "8fee9cd8-5bfa-482b-9a8c-026358c97828",
   "metadata": {},
   "outputs": [],
   "source": [
    "# save again\n",
    "pickle.dump(\n",
    "    cistopic_obj,\n",
    "    open(os.path.join(out_path, \"cistopic_obj.pkl\"), \"wb\")\n",
    ")\n",
    "# Load the pickled object\n",
    "with open(os.path.join(out_path, \"cistopic_obj.pkl\"), \"rb\") as file:\n",
    "    cistopic_obj = pickle.load(file)"
   ]
  },
  {
   "cell_type": "code",
   "execution_count": null,
   "id": "fdad1f2a-10f1-467b-8409-80c817c7a22c",
   "metadata": {},
   "outputs": [],
   "source": [
    "import scrublet as scr\n",
    "scrub = scr.Scrublet(cistopic_obj.fragment_matrix.T, expected_doublet_rate=0.1)\n",
    "doublet_scores, predicted_doublets = scrub.scrub_doublets()\n",
    "scrub.plot_histogram();\n",
    "scrub.call_doublets(threshold=0.22)\n",
    "scrub.plot_histogram();\n",
    "scrublet = pd.DataFrame([scrub.doublet_scores_obs_, scrub.predicted_doublets_], columns=cistopic_obj.cell_names, index=['Doublet_scores_fragments', 'Predicted_doublets_fragments']).T\n",
    "cistopic_obj.add_cell_data(scrublet, split_pattern = '-')\n",
    "sum(cistopic_obj.cell_data.Predicted_doublets_fragments == True)"
   ]
  },
  {
   "cell_type": "code",
   "execution_count": null,
   "id": "ec150099-65b5-410d-adbc-5b4ea7020ea3",
   "metadata": {},
   "outputs": [],
   "source": [
    "pickle.dump(\n",
    "    cistopic_obj,\n",
    "    open(os.path.join(out_path, \"cistopic_obj.pkl\"), \"wb\")\n",
    ")"
   ]
  },
  {
   "cell_type": "code",
   "execution_count": null,
   "id": "adb11e0f-94eb-42fb-bb65-6e41187165b2",
   "metadata": {},
   "outputs": [],
   "source": [
    "!wget https://github.com/mimno/Mallet/releases/download/v202108/Mallet-202108-bin.tar.gz\n",
    "!tar -xf Mallet-202108-bin.tar.gz"
   ]
  },
  {
   "cell_type": "code",
   "execution_count": null,
   "id": "453a7c1d-7987-4976-891b-b63f0d5f1778",
   "metadata": {},
   "outputs": [],
   "source": [
    "# Load the pickled object\n",
    "with open(os.path.join(out_path, \"cistopic_obj.pkl\"), \"rb\") as file:\n",
    "    cistopic_obj = pickle.load(file)"
   ]
  },
  {
   "cell_type": "code",
   "execution_count": null,
   "id": "29ef18cb-e3bb-410f-aa3b-56e9b1e9c463",
   "metadata": {},
   "outputs": [],
   "source": [
    "os.environ['MALLET_MEMORY'] = '900G'\n",
    "from pycisTopic.lda_models import run_cgs_models_mallet\n",
    "# Configure path Mallet\n",
    "mallet_path=\"Mallet-202108/bin/mallet\"\n",
    "# Run models\n",
    "models=run_cgs_models_mallet(\n",
    "    cistopic_obj,\n",
    "    n_topics=[15],\n",
    "    n_cpu=20,\n",
    "    n_iter=500,\n",
    "    random_state=555,\n",
    "    alpha=50,\n",
    "    alpha_by_topic=True,\n",
    "    eta=0.1,\n",
    "    eta_by_topic=False,\n",
    "    tmp_path=os.path.join(out_path, \"mallet\"),\n",
    "    save_path=os.path.join(out_path, \"mallet\"),\n",
    "    mallet_path=mallet_path,\n",
    ")"
   ]
  },
  {
   "cell_type": "code",
   "execution_count": null,
   "id": "ed02b2c0-ebaa-4261-9aff-3338a006c383",
   "metadata": {},
   "outputs": [],
   "source": [
    "pickle.dump(\n",
    "    models,\n",
    "    open(os.path.join(out_path, \"models.pkl\"), \"wb\")\n",
    ")"
   ]
  },
  {
   "cell_type": "code",
   "execution_count": null,
   "id": "e9ff88a3-8535-4d26-8c32-63c2ef1dbecd",
   "metadata": {},
   "outputs": [],
   "source": [
    "import pickle\n",
    "with open(os.path.join(out_path, \"models.pkl\"), \"rb\") as file:\n",
    "    models = pickle.load(file)\n",
    "with open(os.path.join(out_path, \"cistopic_obj.pkl\"), \"rb\") as file:\n",
    "    cistopic_obj = pickle.load(file)"
   ]
  },
  {
   "cell_type": "code",
   "execution_count": null,
   "id": "d79adf9d-475a-47b6-a8f5-6656147c1b13",
   "metadata": {},
   "outputs": [],
   "source": [
    "from pycisTopic.lda_models import evaluate_models\n",
    "model = evaluate_models(\n",
    "    models,\n",
    "    select_model = 15,\n",
    "    return_model = True\n",
    ")"
   ]
  },
  {
   "cell_type": "code",
   "execution_count": null,
   "id": "e8305b1d-7e0f-4aeb-ab13-4c6611ec4ce4",
   "metadata": {},
   "outputs": [],
   "source": [
    "cistopic_obj.add_LDA_model(model)"
   ]
  },
  {
   "cell_type": "code",
   "execution_count": null,
   "id": "1691bf73-35dc-4ebb-af59-79d8863d70bc",
   "metadata": {},
   "outputs": [],
   "source": [
    "print(cistopic_obj.selected_model)\n"
   ]
  },
  {
   "cell_type": "code",
   "execution_count": null,
   "id": "7b035340-3ace-42fb-85b6-c14389e7aa0d",
   "metadata": {},
   "outputs": [],
   "source": [
    "cistopic_obj.cell_data['merged_id'] = cistopic_obj.cell_data['merged_id'].astype(str)\n",
    "pickle.dump(\n",
    "    cistopic_obj,\n",
    "    open(os.path.join(out_path, \"cistopic_obj.pkl\"), \"wb\")\n",
    ")"
   ]
  },
  {
   "cell_type": "code",
   "execution_count": null,
   "id": "f516cea8-26b3-4411-a322-f5f2a3ab98f3",
   "metadata": {},
   "outputs": [],
   "source": [
    "import pickle\n",
    "with open(os.path.join(out_path, \"cistopic_obj.pkl\"), \"rb\") as file:\n",
    "    cistopic_obj = pickle.load(file)"
   ]
  },
  {
   "cell_type": "code",
   "execution_count": null,
   "id": "b2006080-1c95-4b10-b761-49d9d789c850",
   "metadata": {},
   "outputs": [],
   "source": [
    "from pycisTopic.clust_vis import (\n",
    "    find_clusters,\n",
    "    run_umap,\n",
    "    run_tsne,\n",
    "    plot_metadata,\n",
    "    plot_topic,\n",
    "    cell_topic_heatmap\n",
    ")"
   ]
  },
  {
   "cell_type": "code",
   "execution_count": null,
   "id": "7c7e7295-be4d-4b4f-869c-bd57f06f4fc8",
   "metadata": {},
   "outputs": [],
   "source": [
    "find_clusters(\n",
    "    cistopic_obj,\n",
    "    target  = 'cell',\n",
    "    k = 10,\n",
    "    res = [0.6, 1.2, 3],\n",
    "    prefix = 'pycisTopic_',\n",
    "    scale = True,\n",
    "    split_pattern = '---'\n",
    ")"
   ]
  },
  {
   "cell_type": "code",
   "execution_count": null,
   "id": "10e8f7f1-dc56-48d6-9dff-d8508e9ec8b4",
   "metadata": {},
   "outputs": [],
   "source": [
    "# Check if projections attribute exists and is a dictionary\n",
    "if not hasattr(cistopic_obj, 'projections') or not isinstance(cistopic_obj.projections, dict):\n",
    "    cistopic_obj.projections = {}\n",
    "\n",
    "# Check if 'cell' key exists in projections dictionary and initialize it if necessary\n",
    "if 'cell' not in cistopic_obj.projections:\n",
    "    cistopic_obj.projections['cell'] = {}"
   ]
  },
  {
   "cell_type": "code",
   "execution_count": null,
   "id": "6e5a919b-2de7-4ff2-a713-f8b4e1eb3bc9",
   "metadata": {},
   "outputs": [],
   "source": [
    "run_umap(\n",
    "    cistopic_obj,\n",
    "    target='cell',\n",
    "    scale=True,\n",
    "    n_neighbors=30,\n",
    "    min_dist=0.5\n",
    ")\n",
    "\n",
    "plot_metadata(\n",
    "    cistopic_obj,\n",
    "    reduction_name='UMAP',\n",
    "    variables=['merged_id'],\n",
    "    target='cell', num_columns=4,\n",
    "    text_size=10,\n",
    "    dot_size=5)"
   ]
  },
  {
   "cell_type": "code",
   "execution_count": null,
   "id": "826a98e8-516c-4f56-8624-e4823ba20b67",
   "metadata": {},
   "outputs": [],
   "source": [
    "plot_topic(\n",
    "    cistopic_obj,\n",
    "    reduction_name = 'UMAP',\n",
    "    target = 'cell',\n",
    "    num_columns=5\n",
    ")"
   ]
  },
  {
   "cell_type": "code",
   "execution_count": null,
   "id": "dbb66f40-4796-4440-bc7a-a395de5b846e",
   "metadata": {},
   "outputs": [],
   "source": [
    "pickle.dump(\n",
    "    cistopic_obj,\n",
    "    open(os.path.join(out_path, \"cistopic_obj.pkl\"), \"wb\")\n",
    ")"
   ]
  },
  {
   "cell_type": "code",
   "execution_count": null,
   "id": "05098c1a-3e15-4f12-b82d-9dbf74da76aa",
   "metadata": {},
   "outputs": [],
   "source": [
    "from pycisTopic.topic_binarization import binarize_topics\n",
    "region_bin_topics_top_3k = binarize_topics(\n",
    "    cistopic_obj, method='ntop', ntop = 3_000,\n",
    "    plot=False, num_columns=5\n",
    ")"
   ]
  },
  {
   "cell_type": "code",
   "execution_count": null,
   "id": "043d4d01-fbe5-4406-a775-1808d207b324",
   "metadata": {},
   "outputs": [],
   "source": [
    "region_bin_topics_otsu = binarize_topics(\n",
    "    cistopic_obj, method='otsu',\n",
    "    plot=False, num_columns=5\n",
    ")"
   ]
  },
  {
   "cell_type": "code",
   "execution_count": null,
   "id": "5ffa9d66-8565-4148-89b2-60472668be9b",
   "metadata": {},
   "outputs": [],
   "source": [
    "binarized_cell_topic = binarize_topics(\n",
    "    cistopic_obj,\n",
    "    target='cell',\n",
    "    method='li',\n",
    "    plot=False,\n",
    "    num_columns=5, nbins=100)"
   ]
  },
  {
   "cell_type": "code",
   "execution_count": null,
   "id": "929fc7a2-7b6b-4992-8072-d7a230470a17",
   "metadata": {},
   "outputs": [],
   "source": [
    "from pycisTopic.topic_qc import compute_topic_metrics, plot_topic_qc, topic_annotation\n",
    "import matplotlib.pyplot as plt\n",
    "from pycisTopic.utils import fig2img\n",
    "topic_qc_metrics = compute_topic_metrics(cistopic_obj)"
   ]
  },
  {
   "cell_type": "code",
   "execution_count": null,
   "id": "6d856c31-2b36-402c-99b9-631f2e4dbab0",
   "metadata": {},
   "outputs": [],
   "source": [
    "fig_dict={}\n",
    "fig_dict['CoherenceVSAssignments']=plot_topic_qc(topic_qc_metrics, var_x='Coherence', var_y='Log10_Assignments', var_color='Gini_index', plot=False, return_fig=True)\n",
    "fig_dict['AssignmentsVSCells_in_bin']=plot_topic_qc(topic_qc_metrics, var_x='Log10_Assignments', var_y='Cells_in_binarized_topic', var_color='Gini_index', plot=False, return_fig=True)\n",
    "fig_dict['CoherenceVSCells_in_bin']=plot_topic_qc(topic_qc_metrics, var_x='Coherence', var_y='Cells_in_binarized_topic', var_color='Gini_index', plot=False, return_fig=True)\n",
    "fig_dict['CoherenceVSRegions_in_bin']=plot_topic_qc(topic_qc_metrics, var_x='Coherence', var_y='Regions_in_binarized_topic', var_color='Gini_index', plot=False, return_fig=True)\n",
    "fig_dict['CoherenceVSMarginal_dist']=plot_topic_qc(topic_qc_metrics, var_x='Coherence', var_y='Marginal_topic_dist', var_color='Gini_index', plot=False, return_fig=True)\n",
    "fig_dict['CoherenceVSGini_index']=plot_topic_qc(topic_qc_metrics, var_x='Coherence', var_y='Gini_index', var_color='Gini_index', plot=False, return_fig=True)"
   ]
  },
  {
   "cell_type": "code",
   "execution_count": null,
   "id": "9ddde91f-ebfa-48e1-b584-2f6fbe904d4f",
   "metadata": {},
   "outputs": [],
   "source": [
    "# Plot topic stats in one figure\n",
    "fig=plt.figure(figsize=(40, 43))\n",
    "i = 1\n",
    "for fig_ in fig_dict.keys():\n",
    "    plt.subplot(2, 3, i)\n",
    "    img = fig2img(fig_dict[fig_]) #To convert figures to png to plot together, see .utils.py. This converts the figure to png.\n",
    "    plt.imshow(img)\n",
    "    plt.axis('off')\n",
    "    i += 1\n",
    "plt.subplots_adjust(wspace=0, hspace=-0.70)\n",
    "plt.show()"
   ]
  },
  {
   "cell_type": "code",
   "execution_count": null,
   "id": "3b47c68e-aa26-43ec-aacc-33f7f6a0e73d",
   "metadata": {},
   "outputs": [],
   "source": [
    "topic_annot = topic_annotation(\n",
    "    cistopic_obj,\n",
    "    annot_var='merged_id',\n",
    "    binarized_cell_topic=binarized_cell_topic,\n",
    "    general_topic_thr = 0.2\n",
    ")\n",
    "topic_annot"
   ]
  },
  {
   "cell_type": "code",
   "execution_count": null,
   "id": "5be8a296-7a1b-458e-b79f-f344e9d0ee0d",
   "metadata": {},
   "outputs": [],
   "source": [
    "from pycisTopic.diff_features import (\n",
    "    impute_accessibility,\n",
    "    normalize_scores,\n",
    "    find_highly_variable_features,\n",
    "    find_diff_features\n",
    ")"
   ]
  },
  {
   "cell_type": "code",
   "execution_count": null,
   "id": "74a6a78d-f50f-4ebd-9429-82449e97fda8",
   "metadata": {},
   "outputs": [],
   "source": [
    "import numpy as np\n",
    "imputed_acc_obj = impute_accessibility(\n",
    "    cistopic_obj,\n",
    "    selected_cells=None,\n",
    "    selected_regions=None,\n",
    "    scale_factor=10**6\n",
    ")"
   ]
  },
  {
   "cell_type": "code",
   "execution_count": null,
   "id": "22e61e8c-99ce-4975-9628-c46505328fcc",
   "metadata": {},
   "outputs": [],
   "source": [
    "pickle.dump(\n",
    "    imputed_acc_obj,\n",
    "    open(os.path.join(out_path, \"imputed_acc_obj.pkl\"), \"wb\")\n",
    ")"
   ]
  },
  {
   "cell_type": "code",
   "execution_count": null,
   "id": "305c06d6-7f9d-400f-8e83-03d4cb346686",
   "metadata": {},
   "outputs": [],
   "source": [
    "import pickle\n",
    "with open(os.path.join(out_path, \"imputed_acc_obj.pkl\"), \"rb\") as file:\n",
    "    imputed_acc_obj = pickle.load(file)"
   ]
  },
  {
   "cell_type": "code",
   "execution_count": null,
   "id": "58102830-01d3-435f-b642-1a9ccbfcf893",
   "metadata": {},
   "outputs": [],
   "source": [
    "# normalized_imputed_acc_obj = normalize_scores(imputed_acc_obj, scale_factor=10**4)"
   ]
  },
  {
   "cell_type": "code",
   "execution_count": null,
   "id": "6bc31f9e-b9e2-4e56-ad80-27a86c77a5c0",
   "metadata": {},
   "outputs": [],
   "source": [
    "# pickle.dump(\n",
    "#     normalized_imputed_acc_obj,\n",
    "#     open(os.path.join(out_path, \"normalized_imputed_acc_obj.pkl\"), \"wb\")\n",
    "# )"
   ]
  },
  {
   "cell_type": "code",
   "execution_count": null,
   "id": "cb20a6c7-17f2-4c1e-9721-2a7e3ca2c227",
   "metadata": {},
   "outputs": [],
   "source": [
    "# import pickle\n",
    "# with open(os.path.join(out_path, \"normalized_imputed_acc_obj.pkl\"), \"rb\") as file:\n",
    "#     normalized_imputed_acc_obj = pickle.load(file)"
   ]
  },
  {
   "cell_type": "code",
   "execution_count": null,
   "id": "15f95cea-c64e-4ae9-8beb-6a97df6f5135",
   "metadata": {},
   "outputs": [],
   "source": [
    "# variable_regions = find_highly_variable_features(\n",
    "#     normalized_imputed_acc_obj,\n",
    "#     min_disp = 0.05,\n",
    "#     min_mean = 0.0125,\n",
    "#     max_mean = 3,\n",
    "#     max_disp = np.inf,\n",
    "#     n_bins=20,\n",
    "#     n_top_features=None,\n",
    "#     plot=True\n",
    "# )\n",
    "# len(variable_regions)"
   ]
  },
  {
   "cell_type": "code",
   "execution_count": null,
   "id": "f3816fcd-97ac-4a04-87e8-ad9e06174c95",
   "metadata": {},
   "outputs": [],
   "source": [
    "variable_regions = find_highly_variable_features(\n",
    "    imputed_acc_obj,\n",
    "    min_disp = 0.05,\n",
    "    min_mean = 0.0125,\n",
    "    max_mean = 3,\n",
    "    max_disp = np.inf,\n",
    "    n_bins=20,\n",
    "    n_top_features=None,\n",
    "    plot=True\n",
    ")\n",
    "len(variable_regions)"
   ]
  },
  {
   "cell_type": "code",
   "execution_count": null,
   "id": "3ae37b0b-787a-446c-ae21-f304a5269f8b",
   "metadata": {},
   "outputs": [],
   "source": [
    "markers_dict= find_diff_features(\n",
    "    cistopic_obj,\n",
    "    imputed_acc_obj,\n",
    "    variable='merged_id',\n",
    "    var_features=variable_regions,\n",
    "    contrasts=None,\n",
    "    adjpval_thr=0.05,\n",
    "    log2fc_thr=np.log2(1.5),\n",
    "    n_cpu=16,\n",
    "    _temp_dir=\"/cfs/klemming/projects/supr/secilmis\",\n",
    "    split_pattern = '-'\n",
    ")"
   ]
  },
  {
   "cell_type": "code",
   "execution_count": null,
   "id": "ae28e329-a6c0-49c7-b954-3493c5b76f12",
   "metadata": {},
   "outputs": [],
   "source": [
    "pickle.dump(\n",
    "    markers_dict,\n",
    "    open(os.path.join(out_path, \"markers_dict.pkl\"), \"wb\")\n",
    ")"
   ]
  },
  {
   "cell_type": "code",
   "execution_count": null,
   "id": "fcc612ab-3f01-436b-87d1-8a4de7e12511",
   "metadata": {},
   "outputs": [],
   "source": [
    "# from pycisTopic.clust_vis import plot_imputed_features\n",
    "# plot_imputed_features(\n",
    "#     cistopic_obj,\n",
    "#     reduction_name='UMAP',\n",
    "#     imputed_data=imputed_acc_obj,\n",
    "#     features=[markers_dict[x].index.tolist()[0] for x in [\"Oligodendrocytes_1dpi\", \"Astrocytes_1dpi\", \"Microglia_1dpi\", \"OPCs_1dpi\", \"Ependymal_1dpi\", \"Oligodendrocytes_28dpi\", \"OPCs_28dpi\", \"Microglia_28dpi\", \"Astrocytes_28dpi\", \"Ependymal_28dpi\", \"Oligodendrocytes_3dpi\", \"OPCs_3dpi\", \"Microglia_3dpi\", \"Astrocytes_3dpi\", \"Ependymal_3dpi\", \"Oligodendrocytes_7dpi\", \"Microglia_7dpi\", \"OPCs_7dpi\", \"Astrocytes_7dpi\", \"Ependymal_7dpi\", \"Oligodendrocytes_U\", \"OPCs_U\", \"Astrocytes_U\", \"Microglia_U\", \"Ependymal_U\"]],\n",
    "#     scale=False,\n",
    "#     num_columns=3\n",
    "# )"
   ]
  },
  {
   "cell_type": "code",
   "execution_count": null,
   "id": "5c47ffb8-29f9-46b9-b034-83e536f2bc42",
   "metadata": {},
   "outputs": [],
   "source": [
    "print(\"Number of DARs found:\")\n",
    "print(\"---------------------\")\n",
    "for x in markers_dict:\n",
    "    print(f\"  {x}: {len(markers_dict[x])}\")"
   ]
  },
  {
   "cell_type": "code",
   "execution_count": null,
   "id": "caffbda7-4112-4d02-aa1d-69f0d587cb9e",
   "metadata": {},
   "outputs": [],
   "source": [
    "os.makedirs(os.path.join(out_path, \"region_sets\"), exist_ok = True)\n",
    "os.makedirs(os.path.join(out_path, \"region_sets\", \"Topics_otsu\"), exist_ok = True)\n",
    "os.makedirs(os.path.join(out_path, \"region_sets\", \"Topics_top_3k\"), exist_ok = True)\n",
    "os.makedirs(os.path.join(out_path, \"region_sets\", \"DARs_cell_type\"), exist_ok = True)"
   ]
  },
  {
   "cell_type": "code",
   "execution_count": null,
   "id": "fc880d16-e0ef-4ae8-9c43-f19aa6384e16",
   "metadata": {},
   "outputs": [],
   "source": [
    "from pycisTopic.utils import region_names_to_coordinates\n",
    "for topic in region_bin_topics_otsu:\n",
    "    region_names_to_coordinates(\n",
    "        region_bin_topics_otsu[topic].index\n",
    "    ).sort_values(\n",
    "        [\"Chromosome\", \"Start\", \"End\"]\n",
    "    ).to_csv(\n",
    "        os.path.join(out_path, \"region_sets\", \"Topics_otsu\", f\"{topic}.bed\"),\n",
    "        sep = \"\\t\",\n",
    "        header = False, index = False\n",
    "    )"
   ]
  },
  {
   "cell_type": "code",
   "execution_count": null,
   "id": "f64a45ea-ca97-4e30-be97-3c770ba06fa6",
   "metadata": {},
   "outputs": [],
   "source": [
    "for topic in region_bin_topics_top_3k:\n",
    "    region_names_to_coordinates(\n",
    "        region_bin_topics_top_3k[topic].index\n",
    "    ).sort_values(\n",
    "        [\"Chromosome\", \"Start\", \"End\"]\n",
    "    ).to_csv(\n",
    "        os.path.join(out_path, \"region_sets\", \"Topics_top_3k\", f\"{topic}.bed\"),\n",
    "        sep = \"\\t\",\n",
    "        header = False, index = False\n",
    "    )"
   ]
  },
  {
   "cell_type": "code",
   "execution_count": null,
   "id": "a672aea1-a372-4727-bd72-27053b22d52a",
   "metadata": {},
   "outputs": [],
   "source": [
    "for cell_type in markers_dict:\n",
    "    region_names_to_coordinates(\n",
    "        markers_dict[cell_type].index\n",
    "    ).sort_values(\n",
    "        [\"Chromosome\", \"Start\", \"End\"]\n",
    "    ).to_csv(\n",
    "        os.path.join(out_path, \"region_sets\", \"DARs_cell_type\", f\"{cell_type}.bed\"),\n",
    "        sep = \"\\t\",\n",
    "        header = False, index = False\n",
    "    )"
   ]
  },
  {
   "cell_type": "code",
   "execution_count": null,
   "id": "fc495b77-4751-42ea-861f-bcc0547689fe",
   "metadata": {},
   "outputs": [],
   "source": [
    "import pyranges as pr\n",
    "from pycisTopic.gene_activity import get_gene_activity\n",
    "chromsizes = pd.read_table(os.path.join(out_dir, \"qc\", \"mm10.chrom_sizes_and_alias.tsv\"))\n",
    "chromsizes"
   ]
  },
  {
   "cell_type": "code",
   "execution_count": null,
   "id": "d47d7362-6da8-4794-aac5-0269cb47c0bb",
   "metadata": {},
   "outputs": [],
   "source": [
    "chromsizes.rename({\"# ucsc\": \"Chromosome\", \"length\": \"End\"}, axis = 1, inplace = True)\n",
    "chromsizes[\"Start\"] = 0\n",
    "chromsizes = pr.PyRanges(chromsizes[[\"Chromosome\", \"Start\", \"End\"]])\n",
    "chromsizes"
   ]
  },
  {
   "cell_type": "code",
   "execution_count": null,
   "id": "523edfa2-a823-4dcf-9a2e-1dc61dca1d7f",
   "metadata": {},
   "outputs": [],
   "source": [
    "pr_annotation = pd.read_table(\n",
    "        os.path.join(out_dir, \"qc\", \"tss.bed\")\n",
    "    ).rename(\n",
    "        {\"Name\": \"Gene\", \"# Chromosome\": \"Chromosome\"}, axis = 1)\n",
    "pr_annotation[\"Transcription_Start_Site\"] = pr_annotation[\"Start\"]\n",
    "pr_annotation = pr.PyRanges(pr_annotation)\n",
    "pr_annotation"
   ]
  },
  {
   "cell_type": "code",
   "execution_count": null,
   "id": "e722930c-6268-40f4-8ce3-249bfdbec14d",
   "metadata": {},
   "outputs": [],
   "source": [
    "gene_act, weigths = get_gene_activity(\n",
    "    imputed_acc_obj,\n",
    "    pr_annotation,\n",
    "    chromsizes,\n",
    "    use_gene_boundaries=True, # Whether to use the whole search space or stop when encountering another gene\n",
    "    upstream=[1000, 100000], # Search space upstream. The minimum means that even if there is a gene right next to it\n",
    "                             # these bp will be taken (1kbp here)\n",
    "    downstream=[1000,100000], # Search space downstream\n",
    "    distance_weight=True, # Whether to add a distance weight (an exponential function, the weight will decrease with distance)\n",
    "    decay_rate=1, # Exponent for the distance exponential funciton (the higher the faster will be the decrease)\n",
    "    extend_gene_body_upstream=10000, # Number of bp upstream immune to the distance weight (their value will be maximum for\n",
    "                          #this weight)\n",
    "    extend_gene_body_downstream=500, # Number of bp downstream immune to the distance weight\n",
    "    gene_size_weight=False, # Whether to add a weights based on the length of the gene\n",
    "    gene_size_scale_factor='median', # Dividend to calculate the gene size weigth. Default is the median value of all genes\n",
    "                          #in the genome\n",
    "    remove_promoters=False, # Whether to remove promoters when computing gene activity scores\n",
    "    average_scores=True, # Whether to divide by the total number of region assigned to a gene when calculating the gene\n",
    "                          #activity score\n",
    "    scale_factor=1, # Value to multiply for the final gene activity matrix\n",
    "    extend_tss=[10,10], # Space to consider a promoter\n",
    "    gini_weight = True, # Whether to add a gini index weigth. The more unique the region is, the higher this weight will be\n",
    "    return_weights= True, # Whether to return the final weights\n",
    "    project='Gene_activity') # Project name for the gene activity object"
   ]
  },
  {
   "cell_type": "code",
   "execution_count": null,
   "id": "eb4b7d3d-461b-49ad-9261-0879aaeadfad",
   "metadata": {},
   "outputs": [],
   "source": [
    "DAG_markers_dict= find_diff_features(\n",
    "    cistopic_obj,\n",
    "    gene_act,\n",
    "    variable='merged_id',\n",
    "    var_features=None,\n",
    "    contrasts=None,\n",
    "    adjpval_thr=0.05,\n",
    "    log2fc_thr=np.log2(1.5),\n",
    "    n_cpu=20,\n",
    "    _temp_dir=\"/cfs/klemming/projects/supr/secilmis\",\n",
    "    split_pattern = '-')"
   ]
  },
  {
   "cell_type": "code",
   "execution_count": null,
   "id": "5d4f4ed0-3657-4ffd-97b7-1ab6e64829e2",
   "metadata": {},
   "outputs": [],
   "source": [
    "pickle.dump(\n",
    "    DAG_markers_dict,\n",
    "    open(os.path.join(out_path, \"DAG_markers_dict.pkl\"), \"wb\")\n",
    ")"
   ]
  },
  {
   "cell_type": "code",
   "execution_count": null,
   "id": "cc452929-4c79-47e8-80b6-8642a8239f55",
   "metadata": {},
   "outputs": [],
   "source": [
    "print(\"Number of DAGs found:\")\n",
    "print(\"---------------------\")\n",
    "for x in markers_dict:\n",
    "    print(f\"  {x}: {len(DAG_markers_dict[x])}\")"
   ]
  },
  {
   "cell_type": "code",
   "execution_count": null,
   "id": "5f57c965-4271-4a90-a6bb-748020646e78",
   "metadata": {},
   "outputs": [],
   "source": [
    "from pycisTopic.loom import export_region_accessibility_to_loom, export_gene_activity_to_loom\n",
    "cluster_markers = {'merged_id': markers_dict}\n",
    "os.makedirs(os.path.join(out_path, \"loom\"), exist_ok=True)\n",
    "export_region_accessibility_to_loom(\n",
    "    accessibility_matrix = imputed_acc_obj,\n",
    "    cistopic_obj = cistopic_obj,\n",
    "    binarized_topic_region = region_bin_topics_otsu,\n",
    "    binarized_cell_topic = binarized_cell_topic,\n",
    "    selected_cells = cistopic_obj.projections['cell']['UMAP'].index.tolist(),\n",
    "    out_fname = os.path.join(out_path, \"loom\", \"multiome_pycisTopic_region_accessibility.loom\"),\n",
    "    cluster_annotation = ['merged_id'],\n",
    "    cluster_markers = cluster_markers,\n",
    "    tree_structure = ('multiome', 'pycisTopic', 'noDBL_all'),\n",
    "    title = 'multiome - Region accessibility all',\n",
    "    nomenclature = \"mm10\",\n",
    "    split_pattern = '-'\n",
    ")"
   ]
  },
  {
   "cell_type": "code",
   "execution_count": null,
   "id": "5a860c8c-3486-409b-afd0-b11aed67723f",
   "metadata": {},
   "outputs": [],
   "source": [
    "export_gene_activity_to_loom(\n",
    "    gene_activity_matrix = gene_act,\n",
    "    cistopic_obj = cistopic_obj,\n",
    "    out_fname = os.path.join(out_path, \"loom\", \"multiome_pycisTopic_gene_activity.loom\"),\n",
    "    cluster_annotation = ['merged_id'],\n",
    "    cluster_markers = cluster_markers,\n",
    "    tree_structure = ('multiome', 'pycisTopic', 'ATAC'),\n",
    "    title = 'multiome - Gene activity',\n",
    "    nomenclature = \"mm10\",\n",
    "    split_pattern = '-'\n",
    ")"
   ]
  },
  {
   "cell_type": "code",
   "execution_count": null,
   "id": "483c272c-98bb-479b-bd1c-ebfb1733a19c",
   "metadata": {},
   "outputs": [],
   "source": [
    "pickle.dump(\n",
    "    cistopic_obj,\n",
    "    open(os.path.join(out_path, \"cistopic_obj.pkl\"), \"wb\")\n",
    ")"
   ]
  }
 ],
 "metadata": {
  "kernelspec": {
   "display_name": "Python 3 (ipykernel)",
   "language": "python",
   "name": "python3"
  },
  "language_info": {
   "codemirror_mode": {
    "name": "ipython",
    "version": 3
   },
   "file_extension": ".py",
   "mimetype": "text/x-python",
   "name": "python",
   "nbconvert_exporter": "python",
   "pygments_lexer": "ipython3",
   "version": "3.12.1"
  }
 },
 "nbformat": 4,
 "nbformat_minor": 5
}
