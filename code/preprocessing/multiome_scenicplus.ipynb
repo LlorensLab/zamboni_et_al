{
 "cells": [
  {
   "cell_type": "code",
   "execution_count": null,
   "id": "5c5f3c73-ba5c-46ec-b610-6338e57c24b5",
   "metadata": {},
   "outputs": [],
   "source": [
    "import os\n",
    "os.chdir(\"/cfs/klemming/projects/supr/secilmis/naiss2023-23-600/multiome_for_uppmax/scenicplus/scenicplus_output\")"
   ]
  },
  {
   "cell_type": "code",
   "execution_count": null,
   "id": "c72cc237-8e2b-40d8-8876-ac8a648f46ce",
   "metadata": {},
   "outputs": [],
   "source": [
    "import mudata\n",
    "scplus_mdata = mudata.read(\"scplusmdata.h5mu\")"
   ]
  },
  {
   "cell_type": "code",
   "execution_count": null,
   "id": "2b3332e5-15d5-496f-b3e2-82918d5ae479",
   "metadata": {},
   "outputs": [],
   "source": [
    "import anndata\n",
    "eRegulon_gene_AUC_extended = anndata.concat(\n",
    "    [scplus_mdata[\"direct_gene_based_AUC\"], scplus_mdata[\"extended_gene_based_AUC\"]],\n",
    "    axis = 1,\n",
    ")\n",
    "eRegulon_gene_AUC_extended.obs = scplus_mdata.obs.loc[eRegulon_gene_AUC_extended.obs_names]\n",
    "\n",
    "\n",
    "eRegulon_gene_AUC = anndata.concat(\n",
    "    [scplus_mdata[\"direct_gene_based_AUC\"]],\n",
    "    axis = 1,\n",
    ")\n",
    "eRegulon_gene_AUC.obs = scplus_mdata.obs.loc[eRegulon_gene_AUC.obs_names]"
   ]
  },
  {
   "cell_type": "code",
   "execution_count": null,
   "id": "bb89ef05-4916-4900-9473-d5773c95e1ff",
   "metadata": {},
   "outputs": [],
   "source": [
    "from scenicplus.RSS import (regulon_specificity_scores, plot_rss)\n",
    "\n",
    "rss = regulon_specificity_scores(\n",
    "    scplus_mudata=scplus_mdata,\n",
    "    variable=\"scRNA_counts:merged_id\",\n",
    "    modalities=[\"direct_gene_based_AUC\"]\n",
    ")\n",
    "rss.to_csv(\"rss.csv\", index=True)"
   ]
  },
  {
   "cell_type": "code",
   "execution_count": null,
   "id": "42f54eca-354d-4000-97d0-578bfe380981",
   "metadata": {},
   "outputs": [],
   "source": [
    "plot_rss(\n",
    "    data_matrix = rss,\n",
    "    top_n = 10,\n",
    "    num_columns = 5, \n",
    "    figsize=(6,6), save=\"rss_multiome.svg\"\n",
    ")"
   ]
  },
  {
   "cell_type": "code",
   "execution_count": null,
   "id": "e8c521ad-b631-4208-9ae6-fe33f76ecbd3",
   "metadata": {},
   "outputs": [],
   "source": [
    "from scenicplus.plotting.dotplot import heatmap_dotplot\n",
    "custom_order = [\"Astrocytes_U\", \"Astrocytes_1dpi\", \"Astrocytes_3dpi\", \"Astrocytes_7dpi\", \"Astrocytes_28dpi\", \"Ependymal_U\", \"Ependymal_1dpi\", \"Ependymal_3dpi\", \"Ependymal_7dpi\", \"Ependymal_28dpi\", \"OPCs_U\", \"OPCs_1dpi\", \"OPCs_3dpi\", \"OPCs_7dpi\", \"OPCs_28dpi\",\"Oligodendrocytes_U\", \"Oligodendrocytes_1dpi\", \"Oligodendrocytes_3dpi\", \"Oligodendrocytes_7dpi\", \"Oligodendrocytes_28dpi\", \"Microglia_U\", \"Microglia_1dpi\", \"Microglia_3dpi\", \"Microglia_7dpi\", \"Microglia_28dpi\"]\n",
    "heatmap_dotplot(\n",
    "    scplus_mudata = scplus_mdata,\n",
    "    color_modality = \"direct_gene_based_AUC\",\n",
    "    size_modality = \"direct_region_based_AUC\",\n",
    "    group_variable = \"scRNA_counts:merged_id\",\n",
    "    group_variable_order = custom_order,\n",
    "    eRegulon_metadata_key = \"direct_e_regulon_metadata\",\n",
    "    color_feature_key = \"Gene_signature_name\",\n",
    "    size_feature_key = \"Region_signature_name\",\n",
    "    feature_name_key = \"eRegulon_name\",\n",
    "    # subset_feature_names=top_20_eRegulon_names,\n",
    "    sort_data_by = \"direct_gene_based_AUC\",\n",
    "    orientation = \"vertical\",\n",
    "    figsize = (8, 20), \n",
    "    save=\"/cfs/klemming/projects/supr/secilmis/naiss2023-23-600/multiome_for_uppmax/scenicplus/scenicplus_output/dotplot_multiome_reordered_direct.svg\"\n",
    ")"
   ]
  }
 ],
 "metadata": {
  "kernelspec": {
   "display_name": "Python 3 (ipykernel)",
   "language": "python",
   "name": "python3"
  },
  "language_info": {
   "codemirror_mode": {
    "name": "ipython",
    "version": 3
   },
   "file_extension": ".py",
   "mimetype": "text/x-python",
   "name": "python",
   "nbconvert_exporter": "python",
   "pygments_lexer": "ipython3",
   "version": "3.12.1"
  }
 },
 "nbformat": 4,
 "nbformat_minor": 5
}
